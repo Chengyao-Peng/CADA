{
 "cells": [
  {
   "cell_type": "code",
   "execution_count": null,
   "metadata": {},
   "outputs": [],
   "source": [
    "from CADA.paths import DATA_DIRECTORY\n",
    "import collections\n",
    "import os\n",
    "import pandas as pd\n",
    "import re\n",
    "import pickle\n",
    "\n",
    "with open('../data/raw/ids/hpo_old_new.dict', 'rb') as handle:\n",
    "    hpo_dict = pickle.load(handle)\n",
    "\n",
    "with open('../data/raw/ids/hpo_id_name.dict', 'rb') as handle:\n",
    "    hpo_id_name = pickle.load(handle)\n",
    "\n",
    "with open('../data/raw/ids/gene_name_id.dict', 'rb') as handle:\n",
    "    gene_name_id = pickle.load(handle)\n",
    "\n"
   ]
  },
  {
   "cell_type": "markdown",
   "metadata": {},
   "source": [
    "## 1. Parse clinvar 'Pathogenic' and 'Likely pathogenic' submissions from submission_summary.txt\n",
    "\n",
    "https://ftp.ncbi.nlm.nih.gov/pub/clinvar/tab_delimited/"
   ]
  },
  {
   "cell_type": "code",
   "execution_count": null,
   "metadata": {},
   "outputs": [],
   "source": [
    "# parse submissions from Clinvar submission summary\n",
    "submission_summary ='../data/raw/clinvar/submission_summary.txt'\n",
    "clinvar_summary_data = collections.defaultdict(dict)\n",
    "\n",
    "\n",
    "# data cleaning, keep submissions with known'Pathogenic' and 'Likely pathogenic' mutations\n",
    "with open(submission_summary, 'r') as infile:\n",
    "        content = infile.read().splitlines()[16:]\n",
    "        content = [x.split('\\t') for x in content]\n",
    "        for line in content:\n",
    "            # parse case id, submitter, gene\n",
    "            clinvar_patient =  'Patient:'+line[10].split('.')[0]\n",
    "            submitter= line[9]\n",
    "            gene = line[11]\n",
    "            # parse case significance\n",
    "            significance = line[1]\n",
    "                \n",
    "            # only include case with 'Pathogenic' and 'Likely pathogenic' significance\n",
    "            if significance in ['Pathogenic', 'Likely pathogenic']:\n",
    "                if gene != '-' and gene in gene_name_id:\n",
    "                    clinvar_summary_data[clinvar_patient]['gene_id'] = gene_name_id[gene]\n",
    "                    clinvar_summary_data[clinvar_patient]['submitter'] = submitter\n",
    "                                     \n",
    "                                       \n",
    "df_submission = pd.DataFrame.from_dict(clinvar_summary_data, orient='index')\n"
   ]
  },
  {
   "cell_type": "code",
   "execution_count": null,
   "metadata": {},
   "outputs": [],
   "source": [
    "df_submission"
   ]
  },
  {
   "cell_type": "markdown",
   "metadata": {},
   "source": [
    "## 2. Parse HPO terms from ClinVarFullRelease\n",
    "\n",
    "https://ftp.ncbi.nlm.nih.gov/pub/clinvar/xml/"
   ]
  },
  {
   "cell_type": "code",
   "execution_count": null,
   "metadata": {},
   "outputs": [],
   "source": [
    "# cmd = 'grep '^\\s*<ClinVarAccession Acc=\"SCV\\|^\\s*<XRef.*ID=\"HP:' ClinVarFullRelease_2020-06.xml > full_release.txt'\n",
    "# os.system(cmd)"
   ]
  },
  {
   "cell_type": "code",
   "execution_count": null,
   "metadata": {},
   "outputs": [],
   "source": [
    "full_release = 'full_release.txt'\n",
    "clinvar_data = collections.defaultdict(dict)\n",
    "\n",
    "\n",
    "with open(full_release, 'r') as infile:\n",
    "        content = infile.read().split('ClinVarAccession')\n",
    "        for i in content[1:]:\n",
    "            if 'SCV' in i and 'HP:' in i:\n",
    "                matchacc = re.match(' Acc=\"(SCV\\d+)\"', i)\n",
    "                clinvar_patient = 'Patient:'+matchacc.group(1)\n",
    "                hpo_ids = []\n",
    "                hpo_names = []\n",
    "                matchhpo = re.finditer('(HP:\\d+)', i)\n",
    "                for hpo in matchhpo:\n",
    "                    hpo_ids.append(hpo_dict.get(hpo.group(), hpo.group()))\n",
    "                    hpo_ids = list(set(hpo_ids))\n",
    "                if len(hpo_ids) > 0 :\n",
    "                    clinvar_data[clinvar_patient]['features'] = ','.join(hpo_ids)\n",
    "\n",
    "\n",
    "df_full = pd.DataFrame.from_dict(clinvar_data, orient='index')\n",
    "df_full"
   ]
  },
  {
   "cell_type": "code",
   "execution_count": null,
   "metadata": {},
   "outputs": [],
   "source": [
    "df = pd.merge(df_full, df_submission, how = 'inner', left_index=True, right_index=True)\n",
    "df"
   ]
  },
  {
   "cell_type": "markdown",
   "metadata": {},
   "source": [
    "## 3. Remove submissions with identical features, gene and submitter"
   ]
  },
  {
   "cell_type": "code",
   "execution_count": null,
   "metadata": {},
   "outputs": [],
   "source": [
    "df_filtered_identical = df.drop_duplicates()\n",
    "df_filtered_identical"
   ]
  }
 ],
 "metadata": {
  "kernelspec": {
   "display_name": "CADA",
   "language": "python",
   "name": "cada"
  },
  "language_info": {
   "codemirror_mode": {
    "name": "ipython",
    "version": 3
   },
   "file_extension": ".py",
   "mimetype": "text/x-python",
   "name": "python",
   "nbconvert_exporter": "python",
   "pygments_lexer": "ipython3",
   "version": "3.8.5"
  }
 },
 "nbformat": 4,
 "nbformat_minor": 4
}
