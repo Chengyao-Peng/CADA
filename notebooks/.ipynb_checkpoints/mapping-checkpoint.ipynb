{
 "cells": [
  {
   "cell_type": "code",
   "execution_count": 31,
   "metadata": {},
   "outputs": [
    {
     "name": "stderr",
     "output_type": "stream",
     "text": [
      "<ipython-input-31-a7f26c84db1f>:13: UnicodeWarning: unsound encoding, assuming ISO-8859-1 (73% confidence)\n",
      "  hpo = Ontology(hpo_path)\n"
     ]
    }
   ],
   "source": [
    "from pronto import Ontology\n",
    "import os\n",
    "import pickle \n",
    "\n",
    "old_new_hpo = {}\n",
    "hpo_id_name = {}\n",
    "hpo_path = os.path.join('../data', 'raw', 'hpo', 'hpo_hierarchical_information', 'hp.obo')\n",
    "old_new_hpo_path = os.path.join('../data', 'raw', 'ids', 'hpo_old_new.dict')\n",
    "hpo_id_name_path = os.path.join('../data', 'raw', 'ids', 'hpo_id_name.dict')\n",
    "\n",
    "\n",
    "# load and parse terms in hpo ontology\n",
    "hpo = Ontology(hpo_path)\n",
    "for term in hpo.terms():\n",
    "    term_id = term.id\n",
    "    term_name = term.name\n",
    "    for alt_term_id in term.alternate_ids:\n",
    "        old_new_hpo[alt_term_id] = term_id\n",
    "        hpo_id_name[term_id] = term_name\n",
    "\n",
    "# map hpo terms and their possible alternate ids  \n",
    "with open(old_new_hpo_path, 'wb') as handle: \n",
    "    pickle.dump(old_new_hpo, handle)\n",
    "\n",
    "# map hpo terms and their ids\n",
    "with open(hpo_id_name_path, 'wb') as handle: \n",
    "    pickle.dump(hpo_id_name, handle)\n"
   ]
  },
  {
   "cell_type": "code",
   "execution_count": 37,
   "metadata": {},
   "outputs": [],
   "source": [
    "import pandas as pd\n",
    "\n",
    "annotation_path = os.path.join('../data', 'raw', 'hpo', 'gene-hpo', 'ALL_SOURCES_ALL_FREQUENCIES_genes_to_phenotype.txt')\n",
    "\n",
    "# load and parse genes in hpo annotations\n",
    "gene_id_name_path = os.path.join('../data', 'raw', 'ids', 'gene_id_name.dict')\n",
    "gene_name_id_path = os.path.join('../data', 'raw', 'ids', 'gene_name_id.dict')\n",
    "\n",
    "\n",
    "# map gene names and their ids \n",
    "\n",
    "with open(annotation_path) as infile:\n",
    "    with open(gene_id_name_path, 'wb') as outfile_id_name:\n",
    "        df1 = pd.read_csv(infile, skiprows=1, header=None, sep='\\t').applymap(str)\n",
    "        dict_id_symbol = dict(zip(\"Entrez:\" + df1.iloc[:,0], df1.iloc[:,1]))\n",
    "        pickle.dump(dict_id_symbol, outfile_id_name)\n",
    "\n",
    "with open(annotation_path) as infile:\n",
    "    with open(gene_name_id_path, 'wb') as outfile_name_id:\n",
    "        df1 = pd.read_csv(infile, skiprows=1, header=None, sep='\\t').applymap(str)\n",
    "        dict_symbol_id = dict(zip(df1.iloc[:,1], 'Entrez:' + df1.iloc[:,0]))\n",
    "        pickle.dump(dict_symbol_id, outfile_name_id)\n"
   ]
  },
  {
   "cell_type": "code",
   "execution_count": null,
   "metadata": {},
   "outputs": [],
   "source": []
  },
  {
   "cell_type": "code",
   "execution_count": null,
   "metadata": {},
   "outputs": [],
   "source": []
  }
 ],
 "metadata": {
  "kernelspec": {
   "display_name": "CADA",
   "language": "python",
   "name": "cada"
  },
  "language_info": {
   "codemirror_mode": {
    "name": "ipython",
    "version": 3
   },
   "file_extension": ".py",
   "mimetype": "text/x-python",
   "name": "python",
   "nbconvert_exporter": "python",
   "pygments_lexer": "ipython3",
   "version": "3.8.5"
  }
 },
 "nbformat": 4,
 "nbformat_minor": 4
}
